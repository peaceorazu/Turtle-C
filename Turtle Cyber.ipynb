{
 "cells": [
  {
   "cell_type": "code",
   "execution_count": null,
   "id": "5314960e-b1f4-4961-aa33-4de067af0c31",
   "metadata": {},
   "outputs": [],
   "source": [
    "from turtle import *\n",
    "import colorsys\n",
    "\n",
    "speed(0)\n",
    "bgcolor('black')\n",
    "h = 0\n",
    "for i in range(16):\n",
    "    for j in range(18):\n",
    "        c = colorsys.hsv_to_rgb(h, 1, 1)\n",
    "        color(c)\n",
    "        h += 0.005\n",
    "        rt(90)\n",
    "        circle(150 - j * 6, 90)\n",
    "        lt(90)\n",
    "        circle(150 - j * 6, 90)\n",
    "        rt(180)\n",
    "    circle(40, 24)\n",
    "done()"
   ]
  },
  {
   "cell_type": "code",
   "execution_count": null,
   "id": "93cc3303-78a6-45b3-bf71-0dbb8737ca0e",
   "metadata": {},
   "outputs": [],
   "source": []
  },
  {
   "cell_type": "code",
   "execution_count": null,
   "id": "c09f8b06-71ef-4485-8fa3-cfa6047aa9df",
   "metadata": {},
   "outputs": [],
   "source": []
  },
  {
   "cell_type": "code",
   "execution_count": null,
   "id": "596d0570-59cd-419e-b925-12eb9a1d543c",
   "metadata": {},
   "outputs": [],
   "source": []
  }
 ],
 "metadata": {
  "kernelspec": {
   "display_name": "Python 3 (ipykernel)",
   "language": "python",
   "name": "python3"
  },
  "language_info": {
   "codemirror_mode": {
    "name": "ipython",
    "version": 3
   },
   "file_extension": ".py",
   "mimetype": "text/x-python",
   "name": "python",
   "nbconvert_exporter": "python",
   "pygments_lexer": "ipython3",
   "version": "3.11.7"
  }
 },
 "nbformat": 4,
 "nbformat_minor": 5
}
